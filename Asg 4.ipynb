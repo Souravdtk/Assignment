{
 "cells": [
  {
   "cell_type": "markdown",
   "metadata": {},
   "source": [
    "# 1.1 Write a Python Program(with class concepts) to find the area of the triangle"
   ]
  },
  {
   "cell_type": "code",
   "execution_count": 9,
   "metadata": {},
   "outputs": [
    {
     "name": "stdout",
     "output_type": "stream",
     "text": [
      "Enter the sides of triangle\n",
      "4\n",
      "5\n",
      "6\n",
      "9.92\n"
     ]
    }
   ],
   "source": [
    "class Area(): \n",
    "    def length_input(self):\n",
    "        print(\"Enter the sides of triangle\")\n",
    "        a=float(input())\n",
    "        b=float(input())\n",
    "        c=float(input())\n",
    "        return a,b,c\n",
    "\n",
    "class Triangle(Area):\n",
    "    def calc_area(self):\n",
    "        a,b,c=super().length_input()\n",
    "        s=(a+b+c)/2\n",
    "        print('%.2f'%((s*(s-a)*(s-b)*(s-c)) ** 0.5))\n",
    "a=Triangle()\n",
    "a.calc_area()"
   ]
  },
  {
   "cell_type": "markdown",
   "metadata": {},
   "source": [
    "# 1.2 Write a function filter_long_words() that takes a list of words and an integer n and returns the list of words that are longer than n."
   ]
  },
  {
   "cell_type": "code",
   "execution_count": 10,
   "metadata": {},
   "outputs": [
    {
     "name": "stdout",
     "output_type": "stream",
     "text": [
      "['abcde', 'abcdef']\n"
     ]
    }
   ],
   "source": [
    "def filter_long_words(l,n):\n",
    "    m=[]\n",
    "    for i in l:\n",
    "        if len(i)>n:\n",
    "            m.append(i)\n",
    "    return m\n",
    "print(filter_long_words(['abc','abcd','abcde','abcdef'],4))"
   ]
  },
  {
   "cell_type": "markdown",
   "metadata": {},
   "source": [
    "# 2.1 Write a Python program using function concept that maps list of words into a list of integers representing the lengths of the corresponding words."
   ]
  },
  {
   "cell_type": "code",
   "execution_count": 11,
   "metadata": {},
   "outputs": [
    {
     "name": "stdout",
     "output_type": "stream",
     "text": [
      "[3, 4, 5, 6]\n"
     ]
    }
   ],
   "source": [
    "m=['abc','abcd','abcde','abcdef']\n",
    "l=list(map(lambda x: len(x),m))\n",
    "print(l)"
   ]
  },
  {
   "cell_type": "markdown",
   "metadata": {},
   "source": [
    "# 2.2 Write a Python function which takes a character (i.e. a string of length 1) and returns True if it is a vowel, False otherwise."
   ]
  },
  {
   "cell_type": "code",
   "execution_count": 15,
   "metadata": {},
   "outputs": [
    {
     "name": "stdout",
     "output_type": "stream",
     "text": [
      "True\n",
      "False\n"
     ]
    }
   ],
   "source": [
    "def ch(c):\n",
    "    return True if c in ['a','e','i','o','u'] else False\n",
    "print(ch('e'))\n",
    "print(ch('r'))"
   ]
  },
  {
   "cell_type": "code",
   "execution_count": null,
   "metadata": {},
   "outputs": [],
   "source": []
  }
 ],
 "metadata": {
  "kernelspec": {
   "display_name": "Python 3",
   "language": "python",
   "name": "python3"
  }
 },
 "nbformat": 4,
 "nbformat_minor": 2
}
